{
  "nbformat": 4,
  "nbformat_minor": 0,
  "metadata": {
    "colab": {
      "provenance": [],
      "authorship_tag": "ABX9TyOUS478rfYjfW+DFgrNX6He",
      "include_colab_link": true
    },
    "kernelspec": {
      "name": "python3",
      "display_name": "Python 3"
    },
    "language_info": {
      "name": "python"
    }
  },
  "cells": [
    {
      "cell_type": "markdown",
      "metadata": {
        "id": "view-in-github",
        "colab_type": "text"
      },
      "source": [
        "<a href=\"https://colab.research.google.com/github/shivarjunpawan/CSE-3320-OPERATING-SYSTEMS-File-System-Internals/blob/main/Logistic_forward_and_backward_pass_.ipynb\" target=\"_parent\"><img src=\"https://colab.research.google.com/assets/colab-badge.svg\" alt=\"Open In Colab\"/></a>"
      ]
    },
    {
      "cell_type": "code",
      "execution_count": 64,
      "metadata": {
        "id": "1HQUhXvdfbtR"
      },
      "outputs": [],
      "source": [
        "import torch\n",
        "from torch.autograd import Variable"
      ]
    },
    {
      "cell_type": "code",
      "source": [
        "# Assign the variables\n",
        "w1 = torch.tensor([1.0], requires_grad=True)\n",
        "w2 = torch.tensor([1.0], requires_grad=True)\n",
        "w0 = torch.tensor([1.0], requires_grad=True)\n"
      ],
      "metadata": {
        "id": "jMWA0jdwf8BU"
      },
      "execution_count": 65,
      "outputs": []
    },
    {
      "cell_type": "code",
      "source": [
        "# printing the inital values of w1,w2 and w0\n",
        "print(\"The values of w1=\",w1)\n",
        "print(\"The values of w2=\",w2)\n",
        "print(\"The values of w0=\",w0)"
      ],
      "metadata": {
        "colab": {
          "base_uri": "https://localhost:8080/"
        },
        "id": "kjjLk2MDhECT",
        "outputId": "fe4f9257-748a-4acc-af1e-d6e5d68db7a6"
      },
      "execution_count": 66,
      "outputs": [
        {
          "output_type": "stream",
          "name": "stdout",
          "text": [
            "The values of w1= tensor([1.], requires_grad=True)\n",
            "The values of w2= tensor([1.], requires_grad=True)\n",
            "The values of w0= tensor([1.], requires_grad=True)\n"
          ]
        }
      ]
    },
    {
      "cell_type": "code",
      "source": [],
      "metadata": {
        "id": "_LUm6tTcomJ8"
      },
      "execution_count": null,
      "outputs": []
    },
    {
      "cell_type": "code",
      "source": [
        "# defining the sigmoid function\n",
        "def sigmoid(x):\n",
        "  y= 1/ (1+ torch.exp(-2*x))\n",
        "  return y\n",
        "\n",
        "# defining the forward pass\n",
        "def forward(x1,x2):\n",
        "  g= w1*x1 + w2*x2 + w0\n",
        "  p=sigmoid(g)\n",
        "  return p\n"
      ],
      "metadata": {
        "id": "iJX93zkuhZyw"
      },
      "execution_count": 67,
      "outputs": []
    },
    {
      "cell_type": "code",
      "source": [
        "forward(1,2)"
      ],
      "metadata": {
        "colab": {
          "base_uri": "https://localhost:8080/"
        },
        "id": "Jit7Cx1tiBMM",
        "outputId": "143a3e6b-7ced-41d9-a16f-ae05099e05e1"
      },
      "execution_count": 68,
      "outputs": [
        {
          "output_type": "execute_result",
          "data": {
            "text/plain": [
              "tensor([0.9997], grad_fn=<MulBackward0>)"
            ]
          },
          "metadata": {},
          "execution_count": 68
        }
      ]
    },
    {
      "cell_type": "code",
      "source": [
        "# defining loss function\n",
        "def loss(x1,x2,y):\n",
        "  y_pred = forward(x1,x2)\n",
        "  cel=-y*torch.log(y_pred)-(1-y)*torch.log(1-y_pred)\n",
        "  return cel\n"
      ],
      "metadata": {
        "id": "X0mTTyOQjRaK"
      },
      "execution_count": 69,
      "outputs": []
    },
    {
      "cell_type": "code",
      "source": [
        "# assigning the values to the eqn 'g'\n",
        "loss1=loss(1,2,1)\n",
        "loss1"
      ],
      "metadata": {
        "colab": {
          "base_uri": "https://localhost:8080/"
        },
        "id": "keCKiMXmlEys",
        "outputId": "26dd3e98-69ef-4bc2-8149-9ce75baf55c6"
      },
      "execution_count": 70,
      "outputs": [
        {
          "output_type": "execute_result",
          "data": {
            "text/plain": [
              "tensor([0.0003], grad_fn=<SubBackward0>)"
            ]
          },
          "metadata": {},
          "execution_count": 70
        }
      ]
    },
    {
      "cell_type": "code",
      "source": [
        "# assigning the values to the eqn 'g'\n",
        "loss2=loss(2,1,0)\n",
        "loss2"
      ],
      "metadata": {
        "colab": {
          "base_uri": "https://localhost:8080/"
        },
        "id": "6FoZ7RAqlUMY",
        "outputId": "04708278-da8b-4a68-8c5f-0ad9c0874ff4"
      },
      "execution_count": 71,
      "outputs": [
        {
          "output_type": "execute_result",
          "data": {
            "text/plain": [
              "tensor([8.0004], grad_fn=<SubBackward0>)"
            ]
          },
          "metadata": {},
          "execution_count": 71
        }
      ]
    },
    {
      "cell_type": "code",
      "source": [
        "# total loss\n",
        "total_loss=loss1+loss2\n",
        "total_loss"
      ],
      "metadata": {
        "colab": {
          "base_uri": "https://localhost:8080/"
        },
        "id": "M1Cc6rWelZUS",
        "outputId": "e2838053-56b6-4e58-920a-ed9b0c01cb18"
      },
      "execution_count": 72,
      "outputs": [
        {
          "output_type": "execute_result",
          "data": {
            "text/plain": [
              "tensor([8.0007], grad_fn=<AddBackward0>)"
            ]
          },
          "metadata": {},
          "execution_count": 72
        }
      ]
    },
    {
      "cell_type": "code",
      "source": [
        "# print the w1,w2 and w0 grad, no value still backpass not performed\n",
        "w1.grad"
      ],
      "metadata": {
        "id": "vn_tdvMHlk-b"
      },
      "execution_count": 75,
      "outputs": []
    },
    {
      "cell_type": "code",
      "source": [
        "total_loss.backward()"
      ],
      "metadata": {
        "id": "QogVkNZimZYp"
      },
      "execution_count": 76,
      "outputs": []
    },
    {
      "cell_type": "code",
      "source": [
        "# print the w1,w2 and w0 grad\n",
        "w1.grad,w2.grad,w0.grad"
      ],
      "metadata": {
        "colab": {
          "base_uri": "https://localhost:8080/"
        },
        "id": "z3bJd9qGmeRo",
        "outputId": "533ef89f-afc2-40ba-c482-7954db46f07e"
      },
      "execution_count": 77,
      "outputs": [
        {
          "output_type": "execute_result",
          "data": {
            "text/plain": [
              "(tensor([3.9982]), tensor([1.9981]), tensor([1.9987]))"
            ]
          },
          "metadata": {},
          "execution_count": 77
        }
      ]
    },
    {
      "cell_type": "code",
      "source": [
        "# make small changes in the 'w' to improve the loss\n",
        "lr=0.001 # learning rate\n",
        "w1.data=w1.data-lr*w1.grad.data\n",
        "w2.data=w2.data-lr*w2.grad.data\n",
        "w0.data=w0.data-lr*w0.grad.data\n",
        "w1,w2,w0"
      ],
      "metadata": {
        "colab": {
          "base_uri": "https://localhost:8080/"
        },
        "id": "C488BG-pmqAa",
        "outputId": "dbd2902a-7921-46c9-a367-19d8d92b0008"
      },
      "execution_count": 81,
      "outputs": [
        {
          "output_type": "execute_result",
          "data": {
            "text/plain": [
              "(tensor([-7.0163], requires_grad=True),\n",
              " tensor([-3.0061], requires_grad=True),\n",
              " tensor([-3.0075], requires_grad=True))"
            ]
          },
          "metadata": {},
          "execution_count": 81
        }
      ]
    },
    {
      "cell_type": "code",
      "source": [
        "#Earse the w1,w2 and w0 grad values and run the total loss\n",
        "w1.grad.data.zero_()\n",
        "w2.grad.data.zero_()\n",
        "w0.grad.data.zero_()\n",
        "# print the w1,w2 and w0 grad\n",
        "w1,w2,w0"
      ],
      "metadata": {
        "colab": {
          "base_uri": "https://localhost:8080/"
        },
        "id": "1CFD6w1XnVXN",
        "outputId": "2b7960fc-47b4-4458-b370-d85be9ede7f9"
      },
      "execution_count": 83,
      "outputs": [
        {
          "output_type": "execute_result",
          "data": {
            "text/plain": [
              "(tensor([-7.0163], requires_grad=True),\n",
              " tensor([-3.0061], requires_grad=True),\n",
              " tensor([-3.0075], requires_grad=True))"
            ]
          },
          "metadata": {},
          "execution_count": 83
        }
      ]
    },
    {
      "cell_type": "code",
      "source": [
        "total_loss=loss(1,2,1)+loss(2,1,0)\n",
        "total_loss\n"
      ],
      "metadata": {
        "colab": {
          "base_uri": "https://localhost:8080/"
        },
        "id": "Fj5YI6Xin3yv",
        "outputId": "2de172b2-c998-42f8-f003-e5ecc4c467d5"
      },
      "execution_count": 85,
      "outputs": [
        {
          "output_type": "execute_result",
          "data": {
            "text/plain": [
              "tensor([32.0721], grad_fn=<AddBackward0>)"
            ]
          },
          "metadata": {},
          "execution_count": 85
        }
      ]
    },
    {
      "cell_type": "code",
      "source": [
        "total_loss.backward()"
      ],
      "metadata": {
        "id": "qHzRgKhMpdbj"
      },
      "execution_count": 86,
      "outputs": []
    },
    {
      "cell_type": "code",
      "source": [
        "# print the w1,w2 and w0 grad\n",
        "w1.grad,w2.grad,w0.grad"
      ],
      "metadata": {
        "colab": {
          "base_uri": "https://localhost:8080/"
        },
        "id": "2Mwl4LsYnHXe",
        "outputId": "ef818789-1764-4816-8d7e-31a1e10a8dd1"
      },
      "execution_count": 88,
      "outputs": [
        {
          "output_type": "execute_result",
          "data": {
            "text/plain": [
              "(tensor([-2.]), tensor([-4.]), tensor([-2.]))"
            ]
          },
          "metadata": {},
          "execution_count": 88
        }
      ]
    },
    {
      "cell_type": "code",
      "source": [
        "# make small changes in the 'w' to improve the loss\n",
        "lr=0.05 # learning rate\n",
        "w1.data=w1.data-lr*w1.grad.data\n",
        "w2.data=w2.data-lr*w2.grad.data\n",
        "w0.data=w0.data-lr*w0.grad.data\n",
        "w1,w2,w0"
      ],
      "metadata": {
        "colab": {
          "base_uri": "https://localhost:8080/"
        },
        "id": "gAm_7ZrTpz-f",
        "outputId": "07599fe0-b54d-4b8c-80c0-145698f46120"
      },
      "execution_count": 91,
      "outputs": [
        {
          "output_type": "execute_result",
          "data": {
            "text/plain": [
              "(tensor([-6.9143], requires_grad=True),\n",
              " tensor([-2.8021], requires_grad=True),\n",
              " tensor([-2.9055], requires_grad=True))"
            ]
          },
          "metadata": {},
          "execution_count": 91
        }
      ]
    },
    {
      "cell_type": "code",
      "source": [
        "total_loss=loss(1,2,1)+loss(2,1,0)\n",
        "total_loss"
      ],
      "metadata": {
        "colab": {
          "base_uri": "https://localhost:8080/"
        },
        "id": "nw4rhBtEp6Ap",
        "outputId": "bc3981b8-b025-4fae-f73a-ccb1877a39ba"
      },
      "execution_count": 92,
      "outputs": [
        {
          "output_type": "execute_result",
          "data": {
            "text/plain": [
              "tensor([30.8481], grad_fn=<AddBackward0>)"
            ]
          },
          "metadata": {},
          "execution_count": 92
        }
      ]
    },
    {
      "cell_type": "code",
      "source": [
        "for i in range(100):\n",
        "  total_loss=loss(1,2,1)+loss(2,1,0)\n",
        "  total_loss.backward()\n",
        "  lr=15# learning rate\n",
        "  w1.data=w1.data-lr*w1.grad.data\n",
        "  w2.data=w2.data-lr*w2.grad.data\n",
        "  w0.data=w0.data-lr*w0.grad.data\n",
        "  w1.grad.zero_()\n",
        "  w2.grad.zero_()\n",
        "  w0.grad.zero_()\n",
        "  # calculate the total loss\n",
        "  total_loss=loss(1,2,1)+loss(2,1,0)\n",
        "  print(total_loss)\n"
      ],
      "metadata": {
        "colab": {
          "base_uri": "https://localhost:8080/"
        },
        "id": "O4WDslI2qkru",
        "outputId": "f97fcc97-9e35-46f0-fcb7-204094292ec9"
      },
      "execution_count": 104,
      "outputs": [
        {
          "output_type": "stream",
          "name": "stdout",
          "text": [
            "tensor([0.0005], grad_fn=<AddBackward0>)\n",
            "tensor([0.0005], grad_fn=<AddBackward0>)\n",
            "tensor([0.0005], grad_fn=<AddBackward0>)\n",
            "tensor([0.0004], grad_fn=<AddBackward0>)\n",
            "tensor([0.0004], grad_fn=<AddBackward0>)\n",
            "tensor([0.0004], grad_fn=<AddBackward0>)\n",
            "tensor([0.0004], grad_fn=<AddBackward0>)\n",
            "tensor([0.0004], grad_fn=<AddBackward0>)\n",
            "tensor([0.0004], grad_fn=<AddBackward0>)\n",
            "tensor([0.0004], grad_fn=<AddBackward0>)\n",
            "tensor([0.0004], grad_fn=<AddBackward0>)\n",
            "tensor([0.0004], grad_fn=<AddBackward0>)\n",
            "tensor([0.0004], grad_fn=<AddBackward0>)\n",
            "tensor([0.0004], grad_fn=<AddBackward0>)\n",
            "tensor([0.0004], grad_fn=<AddBackward0>)\n",
            "tensor([0.0004], grad_fn=<AddBackward0>)\n",
            "tensor([0.0004], grad_fn=<AddBackward0>)\n",
            "tensor([0.0004], grad_fn=<AddBackward0>)\n",
            "tensor([0.0004], grad_fn=<AddBackward0>)\n",
            "tensor([0.0004], grad_fn=<AddBackward0>)\n",
            "tensor([0.0004], grad_fn=<AddBackward0>)\n",
            "tensor([0.0004], grad_fn=<AddBackward0>)\n",
            "tensor([0.0004], grad_fn=<AddBackward0>)\n",
            "tensor([0.0004], grad_fn=<AddBackward0>)\n",
            "tensor([0.0003], grad_fn=<AddBackward0>)\n",
            "tensor([0.0003], grad_fn=<AddBackward0>)\n",
            "tensor([0.0003], grad_fn=<AddBackward0>)\n",
            "tensor([0.0003], grad_fn=<AddBackward0>)\n",
            "tensor([0.0003], grad_fn=<AddBackward0>)\n",
            "tensor([0.0003], grad_fn=<AddBackward0>)\n",
            "tensor([0.0003], grad_fn=<AddBackward0>)\n",
            "tensor([0.0003], grad_fn=<AddBackward0>)\n",
            "tensor([0.0003], grad_fn=<AddBackward0>)\n",
            "tensor([0.0003], grad_fn=<AddBackward0>)\n",
            "tensor([0.0003], grad_fn=<AddBackward0>)\n",
            "tensor([0.0003], grad_fn=<AddBackward0>)\n",
            "tensor([0.0003], grad_fn=<AddBackward0>)\n",
            "tensor([0.0003], grad_fn=<AddBackward0>)\n",
            "tensor([0.0003], grad_fn=<AddBackward0>)\n",
            "tensor([0.0003], grad_fn=<AddBackward0>)\n",
            "tensor([0.0003], grad_fn=<AddBackward0>)\n",
            "tensor([0.0003], grad_fn=<AddBackward0>)\n",
            "tensor([0.0003], grad_fn=<AddBackward0>)\n",
            "tensor([0.0003], grad_fn=<AddBackward0>)\n",
            "tensor([0.0003], grad_fn=<AddBackward0>)\n",
            "tensor([0.0003], grad_fn=<AddBackward0>)\n",
            "tensor([0.0003], grad_fn=<AddBackward0>)\n",
            "tensor([0.0003], grad_fn=<AddBackward0>)\n",
            "tensor([0.0003], grad_fn=<AddBackward0>)\n",
            "tensor([0.0003], grad_fn=<AddBackward0>)\n",
            "tensor([0.0003], grad_fn=<AddBackward0>)\n",
            "tensor([0.0003], grad_fn=<AddBackward0>)\n",
            "tensor([0.0003], grad_fn=<AddBackward0>)\n",
            "tensor([0.0003], grad_fn=<AddBackward0>)\n",
            "tensor([0.0003], grad_fn=<AddBackward0>)\n",
            "tensor([0.0003], grad_fn=<AddBackward0>)\n",
            "tensor([0.0003], grad_fn=<AddBackward0>)\n",
            "tensor([0.0003], grad_fn=<AddBackward0>)\n",
            "tensor([0.0003], grad_fn=<AddBackward0>)\n",
            "tensor([0.0003], grad_fn=<AddBackward0>)\n",
            "tensor([0.0003], grad_fn=<AddBackward0>)\n",
            "tensor([0.0003], grad_fn=<AddBackward0>)\n",
            "tensor([0.0002], grad_fn=<AddBackward0>)\n",
            "tensor([0.0002], grad_fn=<AddBackward0>)\n",
            "tensor([0.0002], grad_fn=<AddBackward0>)\n",
            "tensor([0.0002], grad_fn=<AddBackward0>)\n",
            "tensor([0.0002], grad_fn=<AddBackward0>)\n",
            "tensor([0.0002], grad_fn=<AddBackward0>)\n",
            "tensor([0.0002], grad_fn=<AddBackward0>)\n",
            "tensor([0.0002], grad_fn=<AddBackward0>)\n",
            "tensor([0.0002], grad_fn=<AddBackward0>)\n",
            "tensor([0.0002], grad_fn=<AddBackward0>)\n",
            "tensor([0.0002], grad_fn=<AddBackward0>)\n",
            "tensor([0.0002], grad_fn=<AddBackward0>)\n",
            "tensor([0.0002], grad_fn=<AddBackward0>)\n",
            "tensor([0.0002], grad_fn=<AddBackward0>)\n",
            "tensor([0.0002], grad_fn=<AddBackward0>)\n",
            "tensor([0.0002], grad_fn=<AddBackward0>)\n",
            "tensor([0.0002], grad_fn=<AddBackward0>)\n",
            "tensor([0.0002], grad_fn=<AddBackward0>)\n",
            "tensor([0.0002], grad_fn=<AddBackward0>)\n",
            "tensor([0.0002], grad_fn=<AddBackward0>)\n",
            "tensor([0.0002], grad_fn=<AddBackward0>)\n",
            "tensor([0.0002], grad_fn=<AddBackward0>)\n",
            "tensor([0.0002], grad_fn=<AddBackward0>)\n",
            "tensor([0.0002], grad_fn=<AddBackward0>)\n",
            "tensor([0.0002], grad_fn=<AddBackward0>)\n",
            "tensor([0.0002], grad_fn=<AddBackward0>)\n",
            "tensor([0.0002], grad_fn=<AddBackward0>)\n",
            "tensor([0.0002], grad_fn=<AddBackward0>)\n",
            "tensor([0.0002], grad_fn=<AddBackward0>)\n",
            "tensor([0.0002], grad_fn=<AddBackward0>)\n",
            "tensor([0.0002], grad_fn=<AddBackward0>)\n",
            "tensor([0.0002], grad_fn=<AddBackward0>)\n",
            "tensor([0.0002], grad_fn=<AddBackward0>)\n",
            "tensor([0.0002], grad_fn=<AddBackward0>)\n",
            "tensor([0.0002], grad_fn=<AddBackward0>)\n",
            "tensor([0.0002], grad_fn=<AddBackward0>)\n",
            "tensor([0.0002], grad_fn=<AddBackward0>)\n",
            "tensor([0.0002], grad_fn=<AddBackward0>)\n"
          ]
        }
      ]
    },
    {
      "cell_type": "code",
      "source": [
        "import matplotlib.pyplot as plt\n",
        "plt.plot(range(100), total_loss, label=\"Loss\")\n",
        "plt.xlabel(\"Iteration\")\n",
        "plt.ylabel(\"Loss\")\n",
        "plt.title(\"Convergence Graph\")\n",
        "plt.legend()\n",
        "plt.show()"
      ],
      "metadata": {
        "colab": {
          "base_uri": "https://localhost:8080/",
          "height": 905
        },
        "id": "6N2CLs3itCQ1",
        "outputId": "e0d4ece3-d151-4e54-935d-7bccc105e4d9"
      },
      "execution_count": 106,
      "outputs": [
        {
          "output_type": "error",
          "ename": "ValueError",
          "evalue": "ignored",
          "traceback": [
            "\u001b[0;31m---------------------------------------------------------------------------\u001b[0m",
            "\u001b[0;31mValueError\u001b[0m                                Traceback (most recent call last)",
            "\u001b[0;32m<ipython-input-106-29c670c50eda>\u001b[0m in \u001b[0;36m<cell line: 2>\u001b[0;34m()\u001b[0m\n\u001b[1;32m      1\u001b[0m \u001b[0;32mimport\u001b[0m \u001b[0mmatplotlib\u001b[0m\u001b[0;34m.\u001b[0m\u001b[0mpyplot\u001b[0m \u001b[0;32mas\u001b[0m \u001b[0mplt\u001b[0m\u001b[0;34m\u001b[0m\u001b[0;34m\u001b[0m\u001b[0m\n\u001b[0;32m----> 2\u001b[0;31m \u001b[0mplt\u001b[0m\u001b[0;34m.\u001b[0m\u001b[0mplot\u001b[0m\u001b[0;34m(\u001b[0m\u001b[0mrange\u001b[0m\u001b[0;34m(\u001b[0m\u001b[0;36m100\u001b[0m\u001b[0;34m)\u001b[0m\u001b[0;34m,\u001b[0m \u001b[0mtotal_loss\u001b[0m\u001b[0;34m,\u001b[0m \u001b[0mlabel\u001b[0m\u001b[0;34m=\u001b[0m\u001b[0;34m\"Loss\"\u001b[0m\u001b[0;34m)\u001b[0m\u001b[0;34m\u001b[0m\u001b[0;34m\u001b[0m\u001b[0m\n\u001b[0m\u001b[1;32m      3\u001b[0m \u001b[0mplt\u001b[0m\u001b[0;34m.\u001b[0m\u001b[0mxlabel\u001b[0m\u001b[0;34m(\u001b[0m\u001b[0;34m\"Iteration\"\u001b[0m\u001b[0;34m)\u001b[0m\u001b[0;34m\u001b[0m\u001b[0;34m\u001b[0m\u001b[0m\n\u001b[1;32m      4\u001b[0m \u001b[0mplt\u001b[0m\u001b[0;34m.\u001b[0m\u001b[0mylabel\u001b[0m\u001b[0;34m(\u001b[0m\u001b[0;34m\"Loss\"\u001b[0m\u001b[0;34m)\u001b[0m\u001b[0;34m\u001b[0m\u001b[0;34m\u001b[0m\u001b[0m\n\u001b[1;32m      5\u001b[0m \u001b[0mplt\u001b[0m\u001b[0;34m.\u001b[0m\u001b[0mtitle\u001b[0m\u001b[0;34m(\u001b[0m\u001b[0;34m\"Convergence Graph\"\u001b[0m\u001b[0;34m)\u001b[0m\u001b[0;34m\u001b[0m\u001b[0;34m\u001b[0m\u001b[0m\n",
            "\u001b[0;32m/usr/local/lib/python3.10/dist-packages/matplotlib/pyplot.py\u001b[0m in \u001b[0;36mplot\u001b[0;34m(scalex, scaley, data, *args, **kwargs)\u001b[0m\n\u001b[1;32m   2810\u001b[0m \u001b[0;34m@\u001b[0m\u001b[0m_copy_docstring_and_deprecators\u001b[0m\u001b[0;34m(\u001b[0m\u001b[0mAxes\u001b[0m\u001b[0;34m.\u001b[0m\u001b[0mplot\u001b[0m\u001b[0;34m)\u001b[0m\u001b[0;34m\u001b[0m\u001b[0;34m\u001b[0m\u001b[0m\n\u001b[1;32m   2811\u001b[0m \u001b[0;32mdef\u001b[0m \u001b[0mplot\u001b[0m\u001b[0;34m(\u001b[0m\u001b[0;34m*\u001b[0m\u001b[0margs\u001b[0m\u001b[0;34m,\u001b[0m \u001b[0mscalex\u001b[0m\u001b[0;34m=\u001b[0m\u001b[0;32mTrue\u001b[0m\u001b[0;34m,\u001b[0m \u001b[0mscaley\u001b[0m\u001b[0;34m=\u001b[0m\u001b[0;32mTrue\u001b[0m\u001b[0;34m,\u001b[0m \u001b[0mdata\u001b[0m\u001b[0;34m=\u001b[0m\u001b[0;32mNone\u001b[0m\u001b[0;34m,\u001b[0m \u001b[0;34m**\u001b[0m\u001b[0mkwargs\u001b[0m\u001b[0;34m)\u001b[0m\u001b[0;34m:\u001b[0m\u001b[0;34m\u001b[0m\u001b[0;34m\u001b[0m\u001b[0m\n\u001b[0;32m-> 2812\u001b[0;31m     return gca().plot(\n\u001b[0m\u001b[1;32m   2813\u001b[0m         \u001b[0;34m*\u001b[0m\u001b[0margs\u001b[0m\u001b[0;34m,\u001b[0m \u001b[0mscalex\u001b[0m\u001b[0;34m=\u001b[0m\u001b[0mscalex\u001b[0m\u001b[0;34m,\u001b[0m \u001b[0mscaley\u001b[0m\u001b[0;34m=\u001b[0m\u001b[0mscaley\u001b[0m\u001b[0;34m,\u001b[0m\u001b[0;34m\u001b[0m\u001b[0;34m\u001b[0m\u001b[0m\n\u001b[1;32m   2814\u001b[0m         **({\"data\": data} if data is not None else {}), **kwargs)\n",
            "\u001b[0;32m/usr/local/lib/python3.10/dist-packages/matplotlib/axes/_axes.py\u001b[0m in \u001b[0;36mplot\u001b[0;34m(self, scalex, scaley, data, *args, **kwargs)\u001b[0m\n\u001b[1;32m   1686\u001b[0m         \"\"\"\n\u001b[1;32m   1687\u001b[0m         \u001b[0mkwargs\u001b[0m \u001b[0;34m=\u001b[0m \u001b[0mcbook\u001b[0m\u001b[0;34m.\u001b[0m\u001b[0mnormalize_kwargs\u001b[0m\u001b[0;34m(\u001b[0m\u001b[0mkwargs\u001b[0m\u001b[0;34m,\u001b[0m \u001b[0mmlines\u001b[0m\u001b[0;34m.\u001b[0m\u001b[0mLine2D\u001b[0m\u001b[0;34m)\u001b[0m\u001b[0;34m\u001b[0m\u001b[0;34m\u001b[0m\u001b[0m\n\u001b[0;32m-> 1688\u001b[0;31m         \u001b[0mlines\u001b[0m \u001b[0;34m=\u001b[0m \u001b[0;34m[\u001b[0m\u001b[0;34m*\u001b[0m\u001b[0mself\u001b[0m\u001b[0;34m.\u001b[0m\u001b[0m_get_lines\u001b[0m\u001b[0;34m(\u001b[0m\u001b[0;34m*\u001b[0m\u001b[0margs\u001b[0m\u001b[0;34m,\u001b[0m \u001b[0mdata\u001b[0m\u001b[0;34m=\u001b[0m\u001b[0mdata\u001b[0m\u001b[0;34m,\u001b[0m \u001b[0;34m**\u001b[0m\u001b[0mkwargs\u001b[0m\u001b[0;34m)\u001b[0m\u001b[0;34m]\u001b[0m\u001b[0;34m\u001b[0m\u001b[0;34m\u001b[0m\u001b[0m\n\u001b[0m\u001b[1;32m   1689\u001b[0m         \u001b[0;32mfor\u001b[0m \u001b[0mline\u001b[0m \u001b[0;32min\u001b[0m \u001b[0mlines\u001b[0m\u001b[0;34m:\u001b[0m\u001b[0;34m\u001b[0m\u001b[0;34m\u001b[0m\u001b[0m\n\u001b[1;32m   1690\u001b[0m             \u001b[0mself\u001b[0m\u001b[0;34m.\u001b[0m\u001b[0madd_line\u001b[0m\u001b[0;34m(\u001b[0m\u001b[0mline\u001b[0m\u001b[0;34m)\u001b[0m\u001b[0;34m\u001b[0m\u001b[0;34m\u001b[0m\u001b[0m\n",
            "\u001b[0;32m/usr/local/lib/python3.10/dist-packages/matplotlib/axes/_base.py\u001b[0m in \u001b[0;36m__call__\u001b[0;34m(self, data, *args, **kwargs)\u001b[0m\n\u001b[1;32m    309\u001b[0m                 \u001b[0mthis\u001b[0m \u001b[0;34m+=\u001b[0m \u001b[0margs\u001b[0m\u001b[0;34m[\u001b[0m\u001b[0;36m0\u001b[0m\u001b[0;34m]\u001b[0m\u001b[0;34m,\u001b[0m\u001b[0;34m\u001b[0m\u001b[0;34m\u001b[0m\u001b[0m\n\u001b[1;32m    310\u001b[0m                 \u001b[0margs\u001b[0m \u001b[0;34m=\u001b[0m \u001b[0margs\u001b[0m\u001b[0;34m[\u001b[0m\u001b[0;36m1\u001b[0m\u001b[0;34m:\u001b[0m\u001b[0;34m]\u001b[0m\u001b[0;34m\u001b[0m\u001b[0;34m\u001b[0m\u001b[0m\n\u001b[0;32m--> 311\u001b[0;31m             yield from self._plot_args(\n\u001b[0m\u001b[1;32m    312\u001b[0m                 this, kwargs, ambiguous_fmt_datakey=ambiguous_fmt_datakey)\n\u001b[1;32m    313\u001b[0m \u001b[0;34m\u001b[0m\u001b[0m\n",
            "\u001b[0;32m/usr/local/lib/python3.10/dist-packages/matplotlib/axes/_base.py\u001b[0m in \u001b[0;36m_plot_args\u001b[0;34m(self, tup, kwargs, return_kwargs, ambiguous_fmt_datakey)\u001b[0m\n\u001b[1;32m    502\u001b[0m \u001b[0;34m\u001b[0m\u001b[0m\n\u001b[1;32m    503\u001b[0m         \u001b[0;32mif\u001b[0m \u001b[0mx\u001b[0m\u001b[0;34m.\u001b[0m\u001b[0mshape\u001b[0m\u001b[0;34m[\u001b[0m\u001b[0;36m0\u001b[0m\u001b[0;34m]\u001b[0m \u001b[0;34m!=\u001b[0m \u001b[0my\u001b[0m\u001b[0;34m.\u001b[0m\u001b[0mshape\u001b[0m\u001b[0;34m[\u001b[0m\u001b[0;36m0\u001b[0m\u001b[0;34m]\u001b[0m\u001b[0;34m:\u001b[0m\u001b[0;34m\u001b[0m\u001b[0;34m\u001b[0m\u001b[0m\n\u001b[0;32m--> 504\u001b[0;31m             raise ValueError(f\"x and y must have same first dimension, but \"\n\u001b[0m\u001b[1;32m    505\u001b[0m                              f\"have shapes {x.shape} and {y.shape}\")\n\u001b[1;32m    506\u001b[0m         \u001b[0;32mif\u001b[0m \u001b[0mx\u001b[0m\u001b[0;34m.\u001b[0m\u001b[0mndim\u001b[0m \u001b[0;34m>\u001b[0m \u001b[0;36m2\u001b[0m \u001b[0;32mor\u001b[0m \u001b[0my\u001b[0m\u001b[0;34m.\u001b[0m\u001b[0mndim\u001b[0m \u001b[0;34m>\u001b[0m \u001b[0;36m2\u001b[0m\u001b[0;34m:\u001b[0m\u001b[0;34m\u001b[0m\u001b[0;34m\u001b[0m\u001b[0m\n",
            "\u001b[0;31mValueError\u001b[0m: x and y must have same first dimension, but have shapes (100,) and torch.Size([1])"
          ]
        },
        {
          "output_type": "display_data",
          "data": {
            "text/plain": [
              "<Figure size 640x480 with 1 Axes>"
            ],
            "image/png": "[encoded data removed]"
          },
          "metadata": {}
        }
      ]
    },
    {
      "cell_type": "code",
      "source": [],
      "metadata": {
        "id": "mReGISlitpOM"
      },
      "execution_count": null,
      "outputs": []
    }
  ]
}